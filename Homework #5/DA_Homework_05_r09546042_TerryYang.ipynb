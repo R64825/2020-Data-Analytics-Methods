{
 "cells": [
  {
   "cell_type": "markdown",
   "metadata": {},
   "source": [
    "# Q1 "
   ]
  },
  {
   "cell_type": "markdown",
   "metadata": {},
   "source": [
    "###### import package"
   ]
  },
  {
   "cell_type": "code",
   "execution_count": 1,
   "metadata": {},
   "outputs": [],
   "source": [
    "import pandas as pd\n",
    "import numpy as np\n",
    "from scipy import stats"
   ]
  },
  {
   "cell_type": "markdown",
   "metadata": {},
   "source": [
    "###### read data"
   ]
  },
  {
   "cell_type": "code",
   "execution_count": 2,
   "metadata": {},
   "outputs": [],
   "source": [
    "Female_data = pd.read_csv(r\"D:\\Program Files\\Document\\DA\\Female.csv\")\n",
    "Male_data = pd.read_csv(r\"D:\\Program Files\\Document\\DA\\Male.csv\")\n",
    "\n",
    "N = len(Female_data)\n",
    "#log transformation\n",
    "Female_data_log = np.log1p(Female_data)\n",
    "Male_data_log = np.log1p(Male_data)\n",
    "\n",
    "Var_Female_data = Female_data_log.var(ddof=1)\n",
    "Var_Male_data = Male_data_log.var(ddof=1)"
   ]
  },
  {
   "cell_type": "markdown",
   "metadata": {},
   "source": [
    "###### calculate statisics"
   ]
  },
  {
   "cell_type": "code",
   "execution_count": 3,
   "metadata": {},
   "outputs": [],
   "source": [
    "#std deviation\n",
    "s = np.sqrt((Var_Female_data + Var_Male_data)/2)\n",
    "t = (Female_data_log.mean() - Male_data_log.mean())/(s*np.sqrt(2/N))\n",
    "t2, p2 = stats.ttest_ind(Female_data_log,Male_data_log) \n",
    "# 自由度\n",
    "df = 2*N - 2\n",
    "# 計算 p-value after comparison with the t\n",
    "p = 1 - stats.t.cdf(t,df=df)"
   ]
  },
  {
   "cell_type": "markdown",
   "metadata": {},
   "source": [
    "###### print result"
   ]
  },
  {
   "cell_type": "code",
   "execution_count": 4,
   "metadata": {},
   "outputs": [
    {
     "name": "stdout",
     "output_type": "stream",
     "text": [
      "p = [5.68158054e-05 2.10973532e-05 4.77621800e-08]\n",
      "t = [4.43535567 4.7374114  6.52107442]\n",
      "p(t) = [1.13631611e-04 4.21947064e-05 9.55243601e-08]\n"
     ]
    }
   ],
   "source": [
    "print(\"p = \" + str(2*p))\n",
    "print(\"t = \" + str(t2))\n",
    "print(\"p(t) = \" + str(2*p2))"
   ]
  },
  {
   "cell_type": "code",
   "execution_count": 5,
   "metadata": {},
   "outputs": [
    {
     "name": "stdout",
     "output_type": "stream",
     "text": [
      "Length is significantly different\n",
      "Width is significantly different\n",
      "Height is significantly different\n"
     ]
    }
   ],
   "source": [
    "for i in range(0, len(p)):\n",
    "    if 2*p[i] < p2[i]:\n",
    "        print(Female_data.columns[i]+\" is significantly different\")\n",
    "    else:\n",
    "        print(Female_data.columns[i]+\" is not significantly different\")"
   ]
  },
  {
   "cell_type": "markdown",
   "metadata": {},
   "source": [
    "# Q2"
   ]
  },
  {
   "cell_type": "markdown",
   "metadata": {},
   "source": [
    "###### import package"
   ]
  },
  {
   "cell_type": "code",
   "execution_count": 6,
   "metadata": {},
   "outputs": [],
   "source": [
    "from PIL import Image\n",
    "import numpy as np\n",
    "from numpy import array\n",
    "from tkinter import _flatten\n",
    "from sklearn.linear_model import Lasso\n",
    "from sklearn.linear_model import Ridge\n",
    "import math\n",
    "import matplotlib.pyplot as plt"
   ]
  },
  {
   "cell_type": "markdown",
   "metadata": {},
   "source": [
    "## a."
   ]
  },
  {
   "cell_type": "markdown",
   "metadata": {},
   "source": [
    "###### read ORL data"
   ]
  },
  {
   "cell_type": "code",
   "execution_count": 7,
   "metadata": {},
   "outputs": [],
   "source": [
    "X = np.zeros((400, 2576))\n",
    "for j in range(0, 40):\n",
    "    for i in range(0, 10):\n",
    "        image = Image.open(r\"C:\\Users\\TerryYang\\pythonwork\\pythonwork\\Data Analytics Homework\\ORL Faces\\%s_%s.png\" %(j+1, i+1))\n",
    "        image_array = array(image)\n",
    "        X[i+j*10] = image_array.flatten()\n",
    "        y = [10*[0],10*[1],10*[1],10*[1],10*[1],10*[1],10*[1],10*[0],10*[1],10*[0]\n",
    "         ,10*[1],10*[1],10*[1],10*[1],10*[1],10*[1],10*[1],10*[1],10*[1],10*[1]\n",
    "         ,10*[1],10*[1],10*[1],10*[1],10*[1],10*[1],10*[1],10*[1],10*[1],10*[1]\n",
    "         ,10*[1],10*[0],10*[1],10*[1],10*[1],10*[1],10*[1],10*[1],10*[1],10*[1]]\n",
    "y = list(_flatten(y))"
   ]
  },
  {
   "cell_type": "markdown",
   "metadata": {},
   "source": [
    "###### find less mse under different lambda"
   ]
  },
  {
   "cell_type": "code",
   "execution_count": 8,
   "metadata": {},
   "outputs": [
    {
     "name": "stderr",
     "output_type": "stream",
     "text": [
      "<ipython-input-8-eef449c5a4e7>:6: UserWarning: With alpha=0, this algorithm does not converge well. You are advised to use the LinearRegression estimator\n",
      "  lasso.fit(X, y)\n",
      "C:\\Users\\TerryYang\\anaconda3\\envs\\TENSORFLOW\\lib\\site-packages\\sklearn\\linear_model\\_coordinate_descent.py:530: UserWarning: Coordinate descent with no regularization may lead to unexpected results and is discouraged.\n",
      "  model = cd_fast.enet_coordinate_descent(\n",
      "C:\\Users\\TerryYang\\anaconda3\\envs\\TENSORFLOW\\lib\\site-packages\\sklearn\\linear_model\\_coordinate_descent.py:530: ConvergenceWarning: Objective did not converge. You might want to increase the number of iterations. Duality gap: 0.016627935728148246, tolerance: 0.0036000000000000003\n",
      "  model = cd_fast.enet_coordinate_descent(\n"
     ]
    },
    {
     "data": {
      "text/plain": [
       "[<matplotlib.lines.Line2D at 0x20082aff970>]"
      ]
     },
     "execution_count": 8,
     "metadata": {},
     "output_type": "execute_result"
    },
    {
     "data": {
      "image/png": "[encoded data removed]",
      "text/plain": [
       "<Figure size 432x288 with 1 Axes>"
      ]
     },
     "metadata": {
      "needs_background": "light"
     },
     "output_type": "display_data"
    }
   ],
   "source": [
    "mse = []\n",
    "x_axis = []\n",
    "for i in range(0,100,1):\n",
    "    '''lasso回归'''\n",
    "    lasso = Lasso(alpha = i/10000,normalize = True)\n",
    "    lasso.fit(X, y)\n",
    "    mse.append(np.mean((lasso.predict(X) - y) ** 2)) \n",
    "    x_axis.append(i/10000)\n",
    "plt.xlabel(\"lambda\")\n",
    "plt.ylabel(\"MSE\")\n",
    "plt.title(\"MSE changes with different lambda (Lasso)\")\n",
    "plt.plot(x_axis,mse)"
   ]
  },
  {
   "cell_type": "code",
   "execution_count": 9,
   "metadata": {
    "scrolled": false
   },
   "outputs": [
    {
     "name": "stderr",
     "output_type": "stream",
     "text": [
      "C:\\Users\\TerryYang\\anaconda3\\envs\\TENSORFLOW\\lib\\site-packages\\sklearn\\linear_model\\_ridge.py:187: LinAlgWarning: Ill-conditioned matrix (rcond=4.06671e-19): result may not be accurate.\n",
      "  dual_coef = linalg.solve(K, y, sym_pos=True,\n"
     ]
    },
    {
     "data": {
      "text/plain": [
       "[<matplotlib.lines.Line2D at 0x20082bd2700>]"
      ]
     },
     "execution_count": 9,
     "metadata": {},
     "output_type": "execute_result"
    },
    {
     "data": {
      "image/png": "[encoded data removed]",
      "text/plain": [
       "<Figure size 432x288 with 1 Axes>"
      ]
     },
     "metadata": {
      "needs_background": "light"
     },
     "output_type": "display_data"
    }
   ],
   "source": [
    "mse = []\n",
    "x_axis = []\n",
    "for i in range(0,100,1):\n",
    "    ridge = Ridge(alpha = i/10000,normalize = True)\n",
    "    ridge.fit(X, y)\n",
    "    mse.append(np.mean((ridge.predict(X) - y) ** 2)) \n",
    "    x_axis.append(i/10000)\n",
    "plt.xlabel(\"lambda\")\n",
    "plt.ylabel(\"MSE\")\n",
    "plt.title(\"MSE changes with lambda (Ridge)\")\n",
    "plt.plot(x_axis,mse)"
   ]
  },
  {
   "cell_type": "markdown",
   "metadata": {},
   "source": [
    "#### MSE is smaller when lambda is small, thus we choose a small value (0.001) as lambda"
   ]
  },
  {
   "cell_type": "markdown",
   "metadata": {},
   "source": [
    "## b."
   ]
  },
  {
   "cell_type": "markdown",
   "metadata": {},
   "source": [
    "######  Lasso regression under small lambda (0.001)"
   ]
  },
  {
   "cell_type": "code",
   "execution_count": 10,
   "metadata": {},
   "outputs": [
    {
     "name": "stdout",
     "output_type": "stream",
     "text": [
      "Lasso回歸後選定的像素點：52個\n"
     ]
    }
   ],
   "source": [
    "lasso = Lasso(alpha = 0.001,normalize = True)\n",
    "lasso.fit(X, y)\n",
    "n = np.sum(lasso.coef_ != 0)\n",
    "print('Lasso回歸後選定的像素點：' + str(n)+\"個\")\n",
    "\n",
    "important_pixels = []\n",
    "for i in range(len(lasso.coef_)):\n",
    "    if lasso.coef_[i] != 0:\n",
    "        important_pixels.append(i)"
   ]
  },
  {
   "cell_type": "markdown",
   "metadata": {},
   "source": [
    "###### plot the selected pixels on the image"
   ]
  },
  {
   "cell_type": "code",
   "execution_count": 11,
   "metadata": {},
   "outputs": [
    {
     "data": {
      "image/png": "[encoded data removed]",
      "text/plain": [
       "<Figure size 432x288 with 1 Axes>"
      ]
     },
     "metadata": {
      "needs_background": "light"
     },
     "output_type": "display_data"
    }
   ],
   "source": [
    "image = Image.open(r\"C:\\Users\\TerryYang\\pythonwork\\pythonwork\\Data Analytics Homework\\ORL Faces\\1_1.png\")\n",
    "img_array = np.array(image)\n",
    "#print(len(important_pixels),\"important pixels at\")\n",
    "for i in range(0, len(important_pixels)): #math.floor()\n",
    "    col = math.floor(important_pixels[i]/46)\n",
    "    row = important_pixels[i]-46*col\n",
    "    #print(\"(\",col,\",\", row,\")\")    \n",
    "    img_array[int(col)][int(row)]=255\n",
    "plt.imshow(img_array, interpolation='nearest')\n",
    "plt.show()"
   ]
  },
  {
   "cell_type": "markdown",
   "metadata": {},
   "source": [
    "# Q3"
   ]
  },
  {
   "cell_type": "markdown",
   "metadata": {},
   "source": [
    "###### import package"
   ]
  },
  {
   "cell_type": "code",
   "execution_count": 12,
   "metadata": {},
   "outputs": [],
   "source": [
    "import pandas as pd\n",
    "import numpy as np\n",
    "import statsmodels.api as sm\n",
    "import scipy"
   ]
  },
  {
   "cell_type": "markdown",
   "metadata": {},
   "source": [
    "###### read data"
   ]
  },
  {
   "cell_type": "code",
   "execution_count": 13,
   "metadata": {},
   "outputs": [],
   "source": [
    "data = pd.read_csv(r\"D:\\Program Files\\Document\\DA\\economics of transportation equipment.csv\")\n",
    "y = data.loc[:,\"Value Added\"]\n",
    "X = data.loc[:,[\"Year\",\"Capital\",\"Labor\"]]"
   ]
  },
  {
   "cell_type": "markdown",
   "metadata": {},
   "source": [
    "###### using OLS regression"
   ]
  },
  {
   "cell_type": "code",
   "execution_count": 14,
   "metadata": {},
   "outputs": [
    {
     "name": "stdout",
     "output_type": "stream",
     "text": [
      "                                 OLS Regression Results                                \n",
      "=======================================================================================\n",
      "Dep. Variable:            Value Added   R-squared (uncentered):                   0.996\n",
      "Model:                            OLS   Adj. R-squared (uncentered):              0.995\n",
      "Method:                 Least Squares   F-statistic:                              931.6\n",
      "Date:                Sun, 11 Apr 2021   Prob (F-statistic):                    1.79e-14\n",
      "Time:                        18:58:23   Log-Likelihood:                         -120.00\n",
      "No. Observations:                  15   AIC:                                      246.0\n",
      "Df Residuals:                      12   BIC:                                      248.1\n",
      "Df Model:                           3                                                  \n",
      "Covariance Type:            nonrobust                                                  \n",
      "==============================================================================\n",
      "                 coef    std err          t      P>|t|      [0.025      0.975]\n",
      "------------------------------------------------------------------------------\n",
      "Year         -39.6373     26.892     -1.474      0.166     -98.231      18.956\n",
      "Capital        0.0064      0.006      1.163      0.268      -0.006       0.018\n",
      "Labor          0.0053      0.004      1.212      0.249      -0.004       0.015\n",
      "==============================================================================\n",
      "Omnibus:                        5.134   Durbin-Watson:                   1.864\n",
      "Prob(Omnibus):                  0.077   Jarque-Bera (JB):                2.628\n",
      "Skew:                           0.979   Prob(JB):                        0.269\n",
      "Kurtosis:                       3.607   Cond. No.                     2.21e+05\n",
      "==============================================================================\n",
      "\n",
      "Warnings:\n",
      "[1] Standard Errors assume that the covariance matrix of the errors is correctly specified.\n",
      "[2] The condition number is large, 2.21e+05. This might indicate that there are\n",
      "strong multicollinearity or other numerical problems.\n"
     ]
    },
    {
     "name": "stderr",
     "output_type": "stream",
     "text": [
      "C:\\Users\\TerryYang\\anaconda3\\envs\\TENSORFLOW\\lib\\site-packages\\scipy\\stats\\stats.py:1603: UserWarning: kurtosistest only valid for n>=20 ... continuing anyway, n=15\n",
      "  warnings.warn(\"kurtosistest only valid for n>=20 ... continuing \"\n"
     ]
    }
   ],
   "source": [
    "model = sm.regression.linear_model.OLS(y, X).fit()\n",
    "print(model.summary())\n",
    "\n",
    "X_Labor = X.loc[:,\"Labor\"].to_numpy()\n",
    "X_Capital = X.loc[:,\"Capital\"].to_numpy()\n",
    "\n",
    "y=y.to_numpy()"
   ]
  },
  {
   "cell_type": "markdown",
   "metadata": {},
   "source": [
    "###### define Cobb-Douglas function"
   ]
  },
  {
   "cell_type": "code",
   "execution_count": 15,
   "metadata": {},
   "outputs": [],
   "source": [
    "def sm_model(B1):\n",
    "    return np.sum( ((X_Capital * B1 + X_Labor * (1-B1)) - y) ** 2 )"
   ]
  },
  {
   "cell_type": "markdown",
   "metadata": {},
   "source": [
    "###### optimize"
   ]
  },
  {
   "cell_type": "code",
   "execution_count": 16,
   "metadata": {
    "scrolled": true
   },
   "outputs": [
    {
     "name": "stdout",
     "output_type": "stream",
     "text": [
      "under constrain that Beta1 + Beta2 = 1\n",
      "estimate: Beta1 =  3.7161686266426086 , and Beta2 = -2.7161686266426086\n"
     ]
    }
   ],
   "source": [
    "res = scipy.optimize.minimize(sm_model, x0 = 0)\n",
    "print('under constrain that Beta1 + Beta2 = 1\\nestimate: Beta1 = ', res.x[0], ', and Beta2 =', (1- res.x[0]))"
   ]
  },
  {
   "cell_type": "markdown",
   "metadata": {},
   "source": [
    "# Q4"
   ]
  },
  {
   "cell_type": "markdown",
   "metadata": {},
   "source": [
    "###### import package"
   ]
  },
  {
   "cell_type": "code",
   "execution_count": 17,
   "metadata": {},
   "outputs": [],
   "source": [
    "import numpy as np\n",
    "import matplotlib.pyplot as plt\n",
    "import pandas as pd"
   ]
  },
  {
   "cell_type": "markdown",
   "metadata": {},
   "source": [
    "###### read  AutoMPG dataset"
   ]
  },
  {
   "cell_type": "code",
   "execution_count": 18,
   "metadata": {},
   "outputs": [],
   "source": [
    "data = pd.read_csv(r\"C:\\Users\\TerryYang\\pythonwork\\pythonwork\\Data Analytics Homework\\DA_Demo.csv\")\n",
    "X=data.drop(\" car name\",axis = 1).to_numpy()"
   ]
  },
  {
   "cell_type": "markdown",
   "metadata": {},
   "source": [
    "###### define pca function"
   ]
  },
  {
   "cell_type": "code",
   "execution_count": 19,
   "metadata": {},
   "outputs": [],
   "source": [
    "def pca(dataMat, use_cov, topNfeat=20, ):\n",
    "    meanVals = np.mean(dataMat, axis=0)\n",
    "    meanRemoved = dataMat - meanVals\n",
    "    if use_cov == True:\n",
    "        covMat = np.cov(meanRemoved, rowvar=0)\n",
    "    else:\n",
    "        covMat = np.corrcoef(meanRemoved, rowvar=0) \n",
    "    eigVal, eigVect = np.linalg.eig(np.mat(covMat))\n",
    "    meanRemoved_score_matrix = meanRemoved * eigVect\n",
    "    original_matrix = (meanRemoved_score_matrix * eigVect.T) + meanVals\n",
    "    return meanRemoved_score_matrix, original_matrix, eigVal, eigVect"
   ]
  },
  {
   "cell_type": "markdown",
   "metadata": {},
   "source": [
    "###### define plotting function"
   ]
  },
  {
   "cell_type": "code",
   "execution_count": 20,
   "metadata": {},
   "outputs": [],
   "source": [
    "def show_reduction_picture(dataMat, reconMat):\n",
    "    fig = plt.figure()\n",
    "    ax = fig.add_subplot(111)\n",
    "    ax.scatter(dataMat[:, 0].flatten().A[0], dataMat[:, 1].flatten().A[0], marker='^', s=90,c='green')\n",
    "    ax.scatter(reconMat[:, 0].flatten().A[0], reconMat[:, 1].flatten().A[0], marker='o', s=50, c='red')\n",
    "    plt.show()"
   ]
  },
  {
   "cell_type": "code",
   "execution_count": 21,
   "metadata": {},
   "outputs": [],
   "source": [
    "def show_eigVal_picture(eigVals):\n",
    "    x_axis=[]\n",
    "    y = []\n",
    "    y_culmulated = []\n",
    "    total_val = eigVals.sum()\n",
    "    y_culmulated.append(eigVals[0]/total_val)\n",
    "    for i in range(0,len(eigVals)):\n",
    "        x_axis.append(i)\n",
    "        y.append(eigVals[i]/total_val)\n",
    "        if i !=0 :\n",
    "            y_culmulated.append(eigVals[i]/total_val+y_culmulated[i-1])\n",
    "    fig, ax1 = plt.subplots()\n",
    "    \n",
    "    color = 'tab:blue'\n",
    "    ax1.set_xlabel(\"number of PC adden\")\n",
    "    ax1.set_ylabel(\"Variance\", color=color)\n",
    "    ax1.bar(x_axis, eigVals, color=color)\n",
    "    ax1.tick_params(axis='y', labelcolor=color)\n",
    "    \n",
    "    ax2 = ax1.twinx()  # instantiate a second axes that shares the same x-axis\n",
    "    \n",
    "    color = 'tab:red'\n",
    "    ax2.set_ylabel(\"Cumulative Percentage\", color=color)  # we already handled the x-label with ax1\n",
    "    ax2.plot(x_axis,y_culmulated , color=color)\n",
    "    ax2.tick_params(axis='y', labelcolor=color)\n",
    "    \n",
    "    fig.tight_layout()  # otherwise the right y-label is slightly clipped\n",
    "    plt.show()"
   ]
  },
  {
   "cell_type": "markdown",
   "metadata": {},
   "source": [
    "###### calling pca fuction using correlation matrix"
   ]
  },
  {
   "cell_type": "code",
   "execution_count": 22,
   "metadata": {},
   "outputs": [
    {
     "data": {
      "image/png": "[encoded data removed]",
      "text/plain": [
       "<Figure size 432x288 with 1 Axes>"
      ]
     },
     "metadata": {
      "needs_background": "light"
     },
     "output_type": "display_data"
    },
    {
     "data": {
      "image/png": "[encoded data removed]",
      "text/plain": [
       "<Figure size 432x288 with 2 Axes>"
      ]
     },
     "metadata": {
      "needs_background": "light"
     },
     "output_type": "display_data"
    }
   ],
   "source": [
    "meanRemoved_score_matrix, original_matrix, eigVals, eigVects = pca(X, False)\n",
    "show_reduction_picture(meanRemoved_score_matrix,original_matrix)\n",
    "show_eigVal_picture(eigVals)"
   ]
  },
  {
   "cell_type": "code",
   "execution_count": 23,
   "metadata": {},
   "outputs": [
    {
     "name": "stdout",
     "output_type": "stream",
     "text": [
      "Loading Matrix:\n",
      " [[-0.38586239 -0.07663269  0.29228579  0.09998251  0.74036644  0.38735165\n",
      "   0.1151321  -0.19588516]\n",
      " [-0.27786815  0.50150064  0.30732382 -0.74328281 -0.04739508 -0.12086663\n",
      "  -0.07951102 -0.0345266 ]\n",
      " [-0.21386777 -0.6904632   0.5871892  -0.10601968 -0.30134385 -0.11002592\n",
      "  -0.0542884   0.12501506]\n",
      " [-0.2647309  -0.41690206 -0.63943514 -0.49280794  0.09773197  0.20293343\n",
      "  -0.03518826  0.22891382]\n",
      " [ 0.40157579 -0.21102    -0.00089399 -0.32246785 -0.13127292  0.23585961\n",
      "   0.30991105 -0.72202073]\n",
      " [ 0.40183594  0.11148007  0.23605571 -0.11971643 -0.08426839  0.6667096\n",
      "   0.13477548  0.53504996]\n",
      " [ 0.41644435 -0.12632499  0.07423622 -0.13581398  0.30331627 -0.00699705\n",
      "  -0.82916553 -0.08422855]\n",
      " [ 0.4023885  -0.13842878  0.07223935 -0.21603551  0.48261485 -0.53092548\n",
      "   0.41774679  0.27878265]]\n",
      "Eigen Values:\n",
      " [5.3758723  0.94366326 0.81164365 0.48615594 0.18282657 0.11432193\n",
      " 0.03196954 0.05354682]\n",
      "Eigen Vectors:\n",
      " [[-0.38586239 -0.07663269  0.29228579  0.09998251  0.74036644  0.38735165\n",
      "   0.1151321  -0.19588516]\n",
      " [-0.27786815  0.50150064  0.30732382 -0.74328281 -0.04739508 -0.12086663\n",
      "  -0.07951102 -0.0345266 ]\n",
      " [-0.21386777 -0.6904632   0.5871892  -0.10601968 -0.30134385 -0.11002592\n",
      "  -0.0542884   0.12501506]\n",
      " [-0.2647309  -0.41690206 -0.63943514 -0.49280794  0.09773197  0.20293343\n",
      "  -0.03518826  0.22891382]\n",
      " [ 0.40157579 -0.21102    -0.00089399 -0.32246785 -0.13127292  0.23585961\n",
      "   0.30991105 -0.72202073]\n",
      " [ 0.40183594  0.11148007  0.23605571 -0.11971643 -0.08426839  0.6667096\n",
      "   0.13477548  0.53504996]\n",
      " [ 0.41644435 -0.12632499  0.07423622 -0.13581398  0.30331627 -0.00699705\n",
      "  -0.82916553 -0.08422855]\n",
      " [ 0.4023885  -0.13842878  0.07223935 -0.21603551  0.48261485 -0.53092548\n",
      "   0.41774679  0.27878265]]\n",
      "Score Matrix:\n",
      " [[ 1565.05683964  -819.02399361    89.92164146 ...   908.31368256\n",
      "    850.00772014 -2476.09449247]\n",
      " [ 1674.21598042  -859.99859581   100.64964589 ...   974.66159067\n",
      "    877.31613094 -2596.97829107]\n",
      " [ 1550.63202373  -803.41770537    96.15958036 ...   905.32952002\n",
      "    822.54364543 -2417.45151126]\n",
      " ...\n",
      " [  979.96668612  -555.93894392    78.48036526 ...   599.83940236\n",
      "    611.04553259 -1615.74532333]\n",
      " [ 1103.92118365  -626.84985144    70.24633882 ...   674.31560949\n",
      "    724.37293978 -1853.03804918]\n",
      " [ 1141.49057482  -646.99940547    71.16065031 ...   700.05380021\n",
      "    755.36522758 -1920.34516473]]\n"
     ]
    }
   ],
   "source": [
    "print(\"Loading Matrix:\\n\",eigVects)\n",
    "print(\"Eigen Values:\\n\",eigVals)\n",
    "print(\"Eigen Vectors:\\n\",eigVects)\n",
    "print(\"Score Matrix:\\n\",X*eigVects)"
   ]
  },
  {
   "cell_type": "markdown",
   "metadata": {},
   "source": [
    "###### calling pca fuction using covariance matrix"
   ]
  },
  {
   "cell_type": "code",
   "execution_count": 24,
   "metadata": {},
   "outputs": [
    {
     "data": {
      "image/png": "[encoded data removed]",
      "text/plain": [
       "<Figure size 432x288 with 1 Axes>"
      ]
     },
     "metadata": {
      "needs_background": "light"
     },
     "output_type": "display_data"
    },
    {
     "data": {
      "image/png": "[encoded data removed]",
      "text/plain": [
       "<Figure size 432x288 with 2 Axes>"
      ]
     },
     "metadata": {
      "needs_background": "light"
     },
     "output_type": "display_data"
    }
   ],
   "source": [
    "meanRemoved_score_matrix, original_matrix, eigVals, eigVects = pca(X, True)\n",
    "show_reduction_picture(meanRemoved_score_matrix,original_matrix)\n",
    "show_eigVal_picture(eigVals)"
   ]
  },
  {
   "cell_type": "code",
   "execution_count": 25,
   "metadata": {
    "scrolled": false
   },
   "outputs": [
    {
     "name": "stdout",
     "output_type": "stream",
     "text": [
      "Loading Matrix:\n",
      " [[-7.59590581e-03  1.75785097e-02  4.19212264e-02  8.31000630e-01\n",
      "  -5.49535507e-01 -5.61451547e-02  3.97118180e-02  2.43984110e-02]\n",
      " [-5.51527155e-04  3.24675463e-03 -1.23716014e-02  2.00685150e-02\n",
      "  -5.30801776e-02 -8.77898223e-03 -9.25502182e-01 -3.74145010e-01]\n",
      " [-1.33689886e-03  2.39497354e-02  4.41269251e-02  5.51778482e-01\n",
      "   8.24191632e-01  1.12006207e-01 -3.03888666e-02 -1.60382361e-02]\n",
      " [-1.35281211e-03  3.48299933e-02  7.68839939e-02 -2.08463123e-02\n",
      "  -1.25527681e-01  9.88134411e-01 -9.09879495e-03  1.37739900e-02]\n",
      " [ 9.92644743e-01  1.20867105e-01  2.65874637e-03  3.53993832e-03\n",
      "  -3.93041220e-03 -3.52931159e-03  1.85727735e-04 -1.31438408e-04]\n",
      " [ 3.89660894e-02 -2.98328518e-01 -9.47540130e-01  6.34424404e-02\n",
      "   5.73169239e-03  8.63249865e-02  8.51000586e-03  8.19890724e-03]\n",
      " [ 1.14338202e-01 -9.45572572e-01  3.03873075e-01  9.22239231e-03\n",
      "   3.41321063e-03  1.06909276e-02 -9.19061696e-04 -1.63889805e-02]\n",
      " [ 1.79257460e-03 -1.33223878e-02  7.28065126e-03 -4.31502411e-03\n",
      "   9.17751826e-03 -1.53912563e-02 -3.75218753e-01  9.26626917e-01]]\n",
      "\n",
      "Eigen Values:\n",
      " [7.32193919e+05 1.51443435e+03 2.61673181e+02 2.32569592e+01\n",
      " 5.54405192e+00 2.85720860e+00 3.60437639e-01 2.58474909e-01]\n",
      "\n",
      "Eigen Vectors:\n",
      " [[-7.59590581e-03  1.75785097e-02  4.19212264e-02  8.31000630e-01\n",
      "  -5.49535507e-01 -5.61451547e-02  3.97118180e-02  2.43984110e-02]\n",
      " [-5.51527155e-04  3.24675463e-03 -1.23716014e-02  2.00685150e-02\n",
      "  -5.30801776e-02 -8.77898223e-03 -9.25502182e-01 -3.74145010e-01]\n",
      " [-1.33689886e-03  2.39497354e-02  4.41269251e-02  5.51778482e-01\n",
      "   8.24191632e-01  1.12006207e-01 -3.03888666e-02 -1.60382361e-02]\n",
      " [-1.35281211e-03  3.48299933e-02  7.68839939e-02 -2.08463123e-02\n",
      "  -1.25527681e-01  9.88134411e-01 -9.09879495e-03  1.37739900e-02]\n",
      " [ 9.92644743e-01  1.20867105e-01  2.65874637e-03  3.53993832e-03\n",
      "  -3.93041220e-03 -3.52931159e-03  1.85727735e-04 -1.31438408e-04]\n",
      " [ 3.89660894e-02 -2.98328518e-01 -9.47540130e-01  6.34424404e-02\n",
      "   5.73169239e-03  8.63249865e-02  8.51000586e-03  8.19890724e-03]\n",
      " [ 1.14338202e-01 -9.45572572e-01  3.03873075e-01  9.22239231e-03\n",
      "   3.41321063e-03  1.06909276e-02 -9.19061696e-04 -1.63889805e-02]\n",
      " [ 1.79257460e-03 -1.33223878e-02  7.28065126e-03 -4.31502411e-03\n",
      "   9.17751826e-03 -1.53912563e-02 -3.75218753e-01  9.26626917e-01]]\n",
      "\n",
      "Score Matrix:\n",
      " [[ 3.51816185e+03  9.67523729e+01 -1.57629874e+01 ...  2.06931808e+01\n",
      "  -3.97390688e+00  2.09453383e+00]\n",
      " [ 3.71207552e+03  6.84249866e+01 -3.55220523e+01 ...  2.31815936e+01\n",
      "  -3.79505984e+00  1.57184533e+00]\n",
      " [ 3.45270040e+03  7.21307111e+01 -3.16288649e+01 ...  2.17891395e+01\n",
      "  -3.81734713e+00  2.07339701e+00]\n",
      " ...\n",
      " [ 2.29646673e+03  1.27558490e+02 -2.66001905e+01 ...  1.93746832e+01\n",
      "  -2.73601979e+00  1.13229943e+00]\n",
      " [ 2.62215050e+03  1.83293362e+02 -2.51726966e+01 ...  2.47595430e+01\n",
      "  -2.92603258e+00  1.29258921e+00]\n",
      " [ 2.71643044e+03  1.94906924e+02 -2.78793383e+01 ...  2.52946145e+01\n",
      "  -2.77008294e+00  1.40530269e+00]]\n"
     ]
    }
   ],
   "source": [
    "print(\"Loading Matrix:\\n\",eigVects)\n",
    "print(\"\\nEigen Values:\\n\",eigVals)\n",
    "print(\"\\nEigen Vectors:\\n\",eigVects)\n",
    "print(\"\\nScore Matrix:\\n\",X*eigVects)"
   ]
  },
  {
   "cell_type": "markdown",
   "metadata": {},
   "source": [
    "#### two results are very different between covariance and correlation methods, thus PCA is not scale-invariant"
   ]
  },
  {
   "cell_type": "markdown",
   "metadata": {},
   "source": [
    "# Q5"
   ]
  },
  {
   "cell_type": "markdown",
   "metadata": {},
   "source": [
    "###### import package"
   ]
  },
  {
   "cell_type": "code",
   "execution_count": 34,
   "metadata": {},
   "outputs": [],
   "source": [
    "import numpy as np\n",
    "import matplotlib.pyplot as plt\n",
    "from PIL import Image\n",
    "from numpy import array\n",
    "from tkinter import _flatten"
   ]
  },
  {
   "cell_type": "markdown",
   "metadata": {},
   "source": [
    "###### read ORL data"
   ]
  },
  {
   "cell_type": "code",
   "execution_count": 35,
   "metadata": {},
   "outputs": [],
   "source": [
    "X = np.zeros((400, 2576))\n",
    "for j in range(0, 40):\n",
    "    for i in range(0, 10):\n",
    "        image = Image.open(r\"C:\\Users\\TerryYang\\pythonwork\\pythonwork\\Data Analytics Homework\\ORL Faces\\%s_%s.png\" %(j+1, i+1))\n",
    "        image_array = array(image)\n",
    "        X[i+j*10] = image_array.flatten()"
   ]
  },
  {
   "cell_type": "markdown",
   "metadata": {},
   "source": [
    "###### define PCA function"
   ]
  },
  {
   "cell_type": "code",
   "execution_count": 36,
   "metadata": {},
   "outputs": [],
   "source": [
    "def pca(dataMat, use_cov, topNfeat=20, ):\n",
    "    meanVals = np.mean(dataMat, axis=0)\n",
    "    meanRemoved = dataMat - meanVals\n",
    "    if use_cov == True:\n",
    "        covMat = np.cov(meanRemoved, rowvar=0)\n",
    "    else:\n",
    "        covMat = np.corrcoef(meanRemoved, rowvar=0) \n",
    "    eigVal, eigVect = np.linalg.eig(np.mat(covMat))\n",
    "    meanRemoved_score_matrix = meanRemoved * eigVect\n",
    "    original_matrix = (meanRemoved_score_matrix * eigVect.T) + meanVals\n",
    "    return meanRemoved_score_matrix, original_matrix, eigVal, eigVect"
   ]
  },
  {
   "cell_type": "markdown",
   "metadata": {},
   "source": [
    "###### define analyse function"
   ]
  },
  {
   "cell_type": "code",
   "execution_count": 41,
   "metadata": {},
   "outputs": [],
   "source": [
    "def analyse_data(dataMat):\n",
    "    Printed = 0\n",
    "    meanVals = np.mean(dataMat, axis=0)\n",
    "    meanRemoved = dataMat-meanVals\n",
    "    covMat = np.cov(meanRemoved, rowvar=0)\n",
    "    eigvals, eigVects = np.linalg.eig(np.mat(covMat))\n",
    "    eigValInd = np.argsort(eigvals)\n",
    "\n",
    "    topNfeat = 2576\n",
    "    eigValInd = eigValInd[:-(topNfeat+1):-1]\n",
    "    cov_all_score = complex(sum(eigvals)).real\n",
    "    sum_cov_score = 0\n",
    "    for i in range(0, len(eigValInd)):\n",
    "        line_cov_score = complex(eigvals[eigValInd[i]]).real\n",
    "        sum_cov_score += line_cov_score\n",
    "        if  60 > (sum_cov_score/cov_all_score*100).real > 50 and Printed == 0:\n",
    "            print('Principal components：%s, Variance percentage：%s%%, Cumulated percentage：%s%%' % (format(i+1, '2.0f'), format(line_cov_score/cov_all_score*100, '4.2f'), format(sum_cov_score/cov_all_score*100, '4.1f')))\n",
    "            Printed = 1\n",
    "        elif 70 > (sum_cov_score/cov_all_score*100).real > 60 and Printed == 1:\n",
    "            print('Principal components：%s, Variance percentage：%s%%, Cumulated percentage：%s%%' % (format(i+1, '2.0f'), format(line_cov_score/cov_all_score*100, '4.2f'), format(sum_cov_score/cov_all_score*100, '4.1f')))\n",
    "            Printed = 2\n",
    "        elif 80 > (sum_cov_score/cov_all_score*100).real > 70 and Printed == 2:\n",
    "            print('Principal components：%s, Variance percentage：%s%%, Cumulated percentage：%s%%' % (format(i+1, '2.0f'), format(line_cov_score/cov_all_score*100, '4.2f'), format(sum_cov_score/cov_all_score*100, '4.1f')))\n",
    "            Printed = 3\n",
    "        elif 90 > (sum_cov_score/cov_all_score*100).real > 80 and Printed == 3:\n",
    "            print('Principal components：%s, Variance percentage：%s%%, Cumulated percentage：%s%%' % (format(i+1, '2.0f'), format(line_cov_score/cov_all_score*100, '4.2f'), format(sum_cov_score/cov_all_score*100, '4.1f')))\n",
    "            Printed = 4\n",
    "        elif (sum_cov_score/cov_all_score*100).real > 90 and Printed == 4:\n",
    "            print('Principal components：%s, Variance percentage：%s%%, Cumulated percentage：%s%%' % (format(i+1, '2.0f'), format(line_cov_score/cov_all_score*100, '4.2f'), format(sum_cov_score/cov_all_score*100, '4.1f')))\n",
    "            Printed = 5"
   ]
  },
  {
   "cell_type": "markdown",
   "metadata": {},
   "source": [
    "## a(1)."
   ]
  },
  {
   "cell_type": "markdown",
   "metadata": {},
   "source": [
    "###### call function (X=400x2576)"
   ]
  },
  {
   "cell_type": "code",
   "execution_count": 42,
   "metadata": {
    "scrolled": false
   },
   "outputs": [
    {
     "name": "stdout",
     "output_type": "stream",
     "text": [
      "Principal components： 5, Variance percentage：5.42%, Cumulated percentage：51.0%\n",
      "Principal components： 9, Variance percentage：2.07%, Cumulated percentage：61.7%\n",
      "Principal components：16, Variance percentage：0.95%, Cumulated percentage：70.8%\n",
      "Principal components：32, Variance percentage：0.40%, Cumulated percentage：80.3%\n",
      "Principal components：76, Variance percentage：0.13%, Cumulated percentage：90.1%\n"
     ]
    }
   ],
   "source": [
    "meanRemoved_score_matrix, original_matrix, eigVals, eigVects = pca(X, True)\n",
    "analyse_data(meanRemoved_score_matrix)"
   ]
  },
  {
   "cell_type": "markdown",
   "metadata": {},
   "source": [
    "## b(1)."
   ]
  },
  {
   "cell_type": "markdown",
   "metadata": {},
   "source": [
    "###### plot PC1 image"
   ]
  },
  {
   "cell_type": "code",
   "execution_count": 31,
   "metadata": {},
   "outputs": [
    {
     "data": {
      "image/png": "[encoded data removed]",
      "text/plain": [
       "<Figure size 432x288 with 1 Axes>"
      ]
     },
     "metadata": {
      "needs_background": "light"
     },
     "output_type": "display_data"
    }
   ],
   "source": [
    "first_PC = X@eigVects\n",
    "first_PC=first_PC[0]\n",
    "first_PC_array=first_PC.reshape(56,46).real\n",
    "\n",
    "min_first_PC_array = np.min(first_PC_array)\n",
    "range_first_PC_array = np.max(first_PC_array) - np.min(first_PC_array)\n",
    "for i, j in enumerate(first_PC_array):\n",
    "    first_PC_array[i] = 255 * ((j - min_first_PC_array) / range_first_PC_array)\n",
    "    \n",
    "imgplot = plt.imshow(first_PC_array, cmap='gray', vmin=0, vmax=255)\n",
    "plt.show()"
   ]
  },
  {
   "cell_type": "markdown",
   "metadata": {},
   "source": [
    "## a(2)."
   ]
  },
  {
   "cell_type": "markdown",
   "metadata": {},
   "source": [
    "###### call function (X=2576x400)"
   ]
  },
  {
   "cell_type": "code",
   "execution_count": 32,
   "metadata": {},
   "outputs": [
    {
     "name": "stdout",
     "output_type": "stream",
     "text": [
      "主成分： 2, 該方差佔比：10.55%, 累積方差佔比：57.0%\n",
      "主成分： 3, 該方差佔比：4.57%, 累積方差佔比：61.5%\n",
      "主成分： 6, 該方差佔比：2.07%, 累積方差佔比：70.5%\n",
      "主成分：15, 該方差佔比：0.66%, 累積方差佔比：80.2%\n",
      "主成分：47, 該方差佔比：0.17%, 累積方差佔比：90.1%\n"
     ]
    }
   ],
   "source": [
    "meanRemoved_score_matrix, original_matrix, eigVals, eigVects = pca(X.T, True)\n",
    "analyse_data(meanRemoved_score_matrix)"
   ]
  },
  {
   "cell_type": "markdown",
   "metadata": {},
   "source": [
    "## b(2)."
   ]
  },
  {
   "cell_type": "markdown",
   "metadata": {},
   "source": [
    "###### plot PC1 image"
   ]
  },
  {
   "cell_type": "code",
   "execution_count": 33,
   "metadata": {},
   "outputs": [
    {
     "data": {
      "image/png": "[encoded data removed]",
      "text/plain": [
       "<Figure size 432x288 with 1 Axes>"
      ]
     },
     "metadata": {
      "needs_background": "light"
     },
     "output_type": "display_data"
    }
   ],
   "source": [
    "first_PC = X.T@eigVects\n",
    "first_PC=first_PC.T[0]\n",
    "first_PC_array=first_PC.reshape(56,46).real\n",
    "\n",
    "min_first_PC_array = np.min(first_PC_array)\n",
    "range_first_PC_array = np.max(first_PC_array) - np.min(first_PC_array)\n",
    "for i, j in enumerate(first_PC_array):\n",
    "    first_PC_array[i] = 255 * ((j - min_first_PC_array) / range_first_PC_array)\n",
    "    \n",
    "imgplot = plt.imshow(first_PC_array, cmap='gray', vmin=0, vmax=255)\n",
    "plt.show()"
   ]
  },
  {
   "cell_type": "code",
   "execution_count": null,
   "metadata": {},
   "outputs": [],
   "source": []
  }
 ],
 "metadata": {
  "kernelspec": {
   "display_name": "Python 3",
   "language": "python",
   "name": "python3"
  },
  "language_info": {
   "codemirror_mode": {
    "name": "ipython",
    "version": 3
   },
   "file_extension": ".py",
   "mimetype": "text/x-python",
   "name": "python",
   "nbconvert_exporter": "python",
   "pygments_lexer": "ipython3",
   "version": "3.8.3"
  }
 },
 "nbformat": 4,
 "nbformat_minor": 4
}
