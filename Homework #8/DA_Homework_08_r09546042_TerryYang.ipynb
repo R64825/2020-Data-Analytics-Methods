{
 "cells": [
  {
   "cell_type": "markdown",
   "id": "78a5b5ab",
   "metadata": {},
   "source": [
    "# Q1"
   ]
  },
  {
   "cell_type": "markdown",
   "id": "db01a621",
   "metadata": {},
   "source": [
    "### import packages "
   ]
  },
  {
   "cell_type": "code",
   "execution_count": 1,
   "id": "2ba6d83e",
   "metadata": {},
   "outputs": [],
   "source": [
    "from PIL import Image\n",
    "import numpy\n",
    "from numpy import array\n",
    "import numpy as np\n",
    "from tkinter import _flatten\n",
    "from sklearn.model_selection import train_test_split\n",
    "from sklearn.preprocessing  import StandardScaler\n",
    "from sklearn.neighbors import KNeighborsClassifier\n",
    "from sklearn.linear_model  import LogisticRegression\n",
    "from sklearn import svm"
   ]
  },
  {
   "cell_type": "markdown",
   "id": "fcba81d7",
   "metadata": {},
   "source": [
    "### reading ORL dataset"
   ]
  },
  {
   "cell_type": "code",
   "execution_count": 2,
   "id": "e826c3b7",
   "metadata": {},
   "outputs": [],
   "source": [
    "image_matrix = np.zeros((400, 2576))\n",
    "gender = np.array([])\n",
    "for j in range(0, 40):\n",
    "    for i in range(0, 10):\n",
    "        image = Image.open(r\"C:\\Users\\TerryYang\\pythonwork\\pythonwork\\Data Analytics Homework\\ORL Faces\\%s_%s.png\" %(j+1, i+1))\n",
    "        image_array = array(image)\n",
    "        image_matrix[i+j*10] = image_array.flatten()\n",
    "gender = [10*[0],10*[1],10*[1],10*[1],10*[1],10*[1],10*[1],10*[0],10*[1],10*[0]\n",
    "         ,10*[1],10*[1],10*[1],10*[1],10*[1],10*[1],10*[1],10*[1],10*[1],10*[1]\n",
    "         ,10*[1],10*[1],10*[1],10*[1],10*[1],10*[1],10*[1],10*[1],10*[1],10*[1]\n",
    "         ,10*[1],10*[0],10*[1],10*[1],10*[1],10*[1],10*[1],10*[1],10*[1],10*[1]]\n",
    "gender = list(_flatten(gender))"
   ]
  },
  {
   "cell_type": "markdown",
   "id": "4ce7010f",
   "metadata": {},
   "source": [
    "### split and normalize the training, testing dataset"
   ]
  },
  {
   "cell_type": "code",
   "execution_count": 3,
   "id": "3cddbb08",
   "metadata": {},
   "outputs": [],
   "source": [
    "X = image_matrix\n",
    "y = gender\n",
    "\n",
    "# Split data\n",
    "X_train, X_test, y_train, y_test = train_test_split(X, y, test_size=0.2, random_state=1)\n",
    "\n",
    "# Normalize\n",
    "sc=StandardScaler()\n",
    "sc.fit(X_train)\n",
    "X_train_nor=sc.transform(X_train)\n",
    "X_test_nor=sc.transform(X_test)"
   ]
  },
  {
   "cell_type": "markdown",
   "id": "ea911975",
   "metadata": {},
   "source": [
    "### Logistic Regression"
   ]
  },
  {
   "cell_type": "code",
   "execution_count": 4,
   "id": "07c63916",
   "metadata": {},
   "outputs": [
    {
     "name": "stdout",
     "output_type": "stream",
     "text": [
      "Accuracy of LR model:  96.25 %\n"
     ]
    },
    {
     "name": "stderr",
     "output_type": "stream",
     "text": [
      "C:\\Users\\TerryYang\\anaconda3\\envs\\TENSORFLOW\\lib\\site-packages\\sklearn\\linear_model\\_logistic.py:763: ConvergenceWarning: lbfgs failed to converge (status=1):\n",
      "STOP: TOTAL NO. of ITERATIONS REACHED LIMIT.\n",
      "\n",
      "Increase the number of iterations (max_iter) or scale the data as shown in:\n",
      "    https://scikit-learn.org/stable/modules/preprocessing.html\n",
      "Please also refer to the documentation for alternative solver options:\n",
      "    https://scikit-learn.org/stable/modules/linear_model.html#logistic-regression\n",
      "  n_iter_i = _check_optimize_result(\n"
     ]
    }
   ],
   "source": [
    "# Create LogisticRegression Model\n",
    "lr=LogisticRegression()\n",
    "lr.fit(X_train_nor,y_train)\n",
    "print(\"Accuracy of LR model: \",100*lr.score(X_test_nor, y_test),\"%\")"
   ]
  },
  {
   "cell_type": "markdown",
   "id": "dddeea8a",
   "metadata": {},
   "source": [
    "### K-Nearest Neighbor"
   ]
  },
  {
   "cell_type": "code",
   "execution_count": 5,
   "id": "0a195747",
   "metadata": {},
   "outputs": [
    {
     "name": "stdout",
     "output_type": "stream",
     "text": [
      "Accuracy of KNN model:  97.5 %\n"
     ]
    }
   ],
   "source": [
    "# Create KNN Model\n",
    "knn = KNeighborsClassifier(n_neighbors = 5)\n",
    "knn.fit(X_train_nor,y_train)\n",
    "print(\"Accuracy of KNN model: \",100*knn.score(X_test_nor, y_test),\"%\")"
   ]
  },
  {
   "cell_type": "markdown",
   "id": "978c007a",
   "metadata": {},
   "source": [
    "### Support Vector Machine"
   ]
  },
  {
   "cell_type": "code",
   "execution_count": 6,
   "id": "3ed3d822",
   "metadata": {},
   "outputs": [
    {
     "name": "stdout",
     "output_type": "stream",
     "text": [
      "Accuracy of SVM model:  88.75 %\n"
     ]
    }
   ],
   "source": [
    "# Create LogisticRegression Model\n",
    "clf=svm.SVC(kernel='linear',C=1)\n",
    "clf.fit(X_train,y_train)\n",
    "print(\"Accuracy of SVM model: \",100*clf.score(X_test_nor, y_test),\"%\")"
   ]
  },
  {
   "cell_type": "markdown",
   "id": "764890d7",
   "metadata": {},
   "source": [
    "### Discussion:\n",
    "### KNN model (K=5) has better accuracy than LR, SVM model.\n",
    "### (The result might be different under different model settings.)"
   ]
  },
  {
   "cell_type": "markdown",
   "id": "63c6b429",
   "metadata": {},
   "source": [
    "# Q2"
   ]
  },
  {
   "cell_type": "markdown",
   "id": "0e686f7d",
   "metadata": {},
   "source": [
    "### import packages"
   ]
  },
  {
   "cell_type": "code",
   "execution_count": 7,
   "id": "15d9839f",
   "metadata": {},
   "outputs": [],
   "source": [
    "from sklearn.linear_model import Lasso\n",
    "import matplotlib.pyplot as plt\n",
    "import math"
   ]
  },
  {
   "cell_type": "markdown",
   "id": "3d8477ce",
   "metadata": {},
   "source": [
    "### using LASSO reduce the size of data"
   ]
  },
  {
   "cell_type": "code",
   "execution_count": 8,
   "id": "777d91b4",
   "metadata": {},
   "outputs": [
    {
     "data": {
      "text/plain": [
       "Lasso(alpha=0.001, normalize=True)"
      ]
     },
     "execution_count": 8,
     "metadata": {},
     "output_type": "execute_result"
    }
   ],
   "source": [
    "lasso = Lasso(alpha = 0.001,normalize = True)\n",
    "lasso.fit(X, y)"
   ]
  },
  {
   "cell_type": "markdown",
   "id": "90099eda",
   "metadata": {},
   "source": [
    "### finding & plotting down the important pixels"
   ]
  },
  {
   "cell_type": "code",
   "execution_count": 9,
   "id": "acc6375c",
   "metadata": {
    "scrolled": true
   },
   "outputs": [
    {
     "data": {
      "image/png": "[encoded data removed]",
      "text/plain": [
       "<Figure size 432x288 with 1 Axes>"
      ]
     },
     "metadata": {
      "needs_background": "light"
     },
     "output_type": "display_data"
    }
   ],
   "source": [
    "important_pixels = []\n",
    "for i in range(len(lasso.coef_)):\n",
    "    if lasso.coef_[i] != 0:\n",
    "        important_pixels.append(i)\n",
    "image = Image.open(r\"C:\\Users\\TerryYang\\pythonwork\\pythonwork\\Data Analytics Homework\\ORL Faces\\1_1.png\")\n",
    "img_array = np.array(image)\n",
    "#print(len(important_pixels),\"important pixels at\")\n",
    "for i in range(0, len(important_pixels)): #math.floor()\n",
    "    col = math.floor(important_pixels[i]/46)\n",
    "    row = important_pixels[i]-46*col\n",
    "    #print(\"(\",col,\",\", row,\")\")    \n",
    "    img_array[int(col)][int(row)]=255\n",
    "plt.imshow(img_array, interpolation='nearest')\n",
    "plt.show()"
   ]
  },
  {
   "cell_type": "markdown",
   "id": "b28707a4",
   "metadata": {},
   "source": [
    "### selecting important pixels "
   ]
  },
  {
   "cell_type": "code",
   "execution_count": 10,
   "id": "6a937c70",
   "metadata": {},
   "outputs": [],
   "source": [
    "X_important = np.zeros((400, len(important_pixels)))\n",
    "X_important = X.T[important_pixels]\n",
    "X_important = X_important.T"
   ]
  },
  {
   "cell_type": "markdown",
   "id": "f4806516",
   "metadata": {},
   "source": [
    "### split and normalize the training, testing dataset"
   ]
  },
  {
   "cell_type": "code",
   "execution_count": 11,
   "id": "044e582f",
   "metadata": {},
   "outputs": [],
   "source": [
    "# Split data\n",
    "X_important_train, X_important_test, y_train, y_test = train_test_split(X_important, y, test_size=0.2, random_state=1)\n",
    "\n",
    "# Normalize\n",
    "sc=StandardScaler()\n",
    "sc.fit(X_important_train)\n",
    "X_important_train_nor=sc.transform(X_important_train)\n",
    "X_important_test_nor=sc.transform(X_important_test)"
   ]
  },
  {
   "cell_type": "markdown",
   "id": "18c2e58f",
   "metadata": {},
   "source": [
    "### Logistic Regression"
   ]
  },
  {
   "cell_type": "code",
   "execution_count": 16,
   "id": "d1afc8a0",
   "metadata": {},
   "outputs": [
    {
     "name": "stdout",
     "output_type": "stream",
     "text": [
      "Accuracy of LR model after using LASSO reduction:  97.5 %\n"
     ]
    }
   ],
   "source": [
    "lr=LogisticRegression()\n",
    "lr.fit(X_important_train_nor,y_train)\n",
    "print(\"Accuracy of LR model after using LASSO reduction: \",100*lr.score(X_important_test_nor, y_test),\"%\")"
   ]
  },
  {
   "cell_type": "markdown",
   "id": "91319932",
   "metadata": {},
   "source": [
    "### K-Nearest Neighbor"
   ]
  },
  {
   "cell_type": "code",
   "execution_count": 17,
   "id": "7567ae8e",
   "metadata": {},
   "outputs": [
    {
     "name": "stdout",
     "output_type": "stream",
     "text": [
      "Accuracy of KNN model after using LASSO reduction:  97.5 %\n"
     ]
    }
   ],
   "source": [
    "# Create KNN Model\n",
    "knn = KNeighborsClassifier(n_neighbors = 5)\n",
    "knn.fit(X_important_train_nor,y_train)\n",
    "print(\"Accuracy of KNN model after using LASSO reduction: \",100*knn.score(X_important_test_nor, y_test),\"%\")"
   ]
  },
  {
   "cell_type": "markdown",
   "id": "6160d148",
   "metadata": {},
   "source": [
    "### Support Vector Machine"
   ]
  },
  {
   "cell_type": "code",
   "execution_count": 18,
   "id": "a9f2e46d",
   "metadata": {},
   "outputs": [
    {
     "name": "stdout",
     "output_type": "stream",
     "text": [
      "Accuracy of SVM model after using LASSO reduction:  96.25 %\n"
     ]
    }
   ],
   "source": [
    "# Create LogisticRegression Model\n",
    "clf=svm.SVC(kernel='linear',C=1)\n",
    "clf.fit(X_important_train_nor,y_train)\n",
    "print(\"Accuracy of SVM model after using LASSO reduction: \",100*clf.score(X_important_test_nor, y_test),\"%\")"
   ]
  },
  {
   "cell_type": "markdown",
   "id": "4be4f3d9",
   "metadata": {},
   "source": [
    "### Discussion:\n",
    "### Accuracy of LR, SVM model increased while using LASSO selecting the important pixels first.\n",
    "### (The result might be different under different model settings)"
   ]
  }
 ],
 "metadata": {
  "kernelspec": {
   "display_name": "Python 3",
   "language": "python",
   "name": "python3"
  },
  "language_info": {
   "codemirror_mode": {
    "name": "ipython",
    "version": 3
   },
   "file_extension": ".py",
   "mimetype": "text/x-python",
   "name": "python",
   "nbconvert_exporter": "python",
   "pygments_lexer": "ipython3",
   "version": "3.8.3"
  }
 },
 "nbformat": 4,
 "nbformat_minor": 5
}
